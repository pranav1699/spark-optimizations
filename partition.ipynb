{
 "cells": [
  {
   "cell_type": "code",
   "execution_count": 1,
   "id": "64f03d94-be1f-4485-b96f-58d115687cfe",
   "metadata": {},
   "outputs": [],
   "source": [
    "from pyspark.sql import SparkSession"
   ]
  },
  {
   "cell_type": "code",
   "execution_count": 2,
   "id": "490fa84c-2ccb-4092-aa2f-9a9d13834bc8",
   "metadata": {},
   "outputs": [],
   "source": [
    "spark = (\n",
    "    SparkSession.builder\n",
    "    .appName(\"Dynamic Partition Pruning example\")\n",
    "    .master(\"local[*]\")\n",
    "    .config(\"spark.driver.memory\" , \"10g\")\n",
    "    .getOrCreate()\n",
    ")"
   ]
  },
  {
   "cell_type": "code",
   "execution_count": 3,
   "id": "fa8b9972-5bd0-43d2-b697-110076d33c0a",
   "metadata": {},
   "outputs": [
    {
     "data": {
      "text/html": [
       "\n",
       "            <div>\n",
       "                <p><b>SparkSession - in-memory</b></p>\n",
       "                \n",
       "        <div>\n",
       "            <p><b>SparkContext</b></p>\n",
       "\n",
       "            <p><a href=\"http://172.27.196.180:4040\">Spark UI</a></p>\n",
       "\n",
       "            <dl>\n",
       "              <dt>Version</dt>\n",
       "                <dd><code>v3.5.0</code></dd>\n",
       "              <dt>Master</dt>\n",
       "                <dd><code>local[*]</code></dd>\n",
       "              <dt>AppName</dt>\n",
       "                <dd><code>Dynamic Partition Pruning example</code></dd>\n",
       "            </dl>\n",
       "        </div>\n",
       "        \n",
       "            </div>\n",
       "        "
      ],
      "text/plain": [
       "<pyspark.sql.session.SparkSession at 0x7efca04c93c0>"
      ]
     },
     "execution_count": 3,
     "metadata": {},
     "output_type": "execute_result"
    }
   ],
   "source": [
    "spark"
   ]
  },
  {
   "cell_type": "code",
   "execution_count": 4,
   "id": "a4c5c385-4bfb-444f-85ef-a59ca2cf9f65",
   "metadata": {},
   "outputs": [],
   "source": [
    "# Reading the Csv files\n",
    "\n",
    "listening_activity = spark.read.csv(\"data/partition_raw/Spotify_Listening_Activity.csv\", header =True, inferSchema =True)\n",
    "songs = spark.read.csv(\"data/partition_raw/Spotify_songs.csv\", header = True, inferSchema = True)"
   ]
  },
  {
   "cell_type": "code",
   "execution_count": 5,
   "id": "c61f0f53-e1af-4ef0-b6e1-d897ed16f31d",
   "metadata": {},
   "outputs": [
    {
     "name": "stdout",
     "output_type": "stream",
     "text": [
      "root\n",
      " |-- activity_id: integer (nullable = true)\n",
      " |-- song_id: integer (nullable = true)\n",
      " |-- listen_date: timestamp (nullable = true)\n",
      " |-- listen_duration: integer (nullable = true)\n",
      "\n"
     ]
    }
   ],
   "source": [
    "listening_activity.printSchema() # Printing the schema for listening_activity dataframe"
   ]
  },
  {
   "cell_type": "code",
   "execution_count": 6,
   "id": "b9c876bf-64cf-4167-92dc-7db254380d61",
   "metadata": {},
   "outputs": [
    {
     "name": "stdout",
     "output_type": "stream",
     "text": [
      "root\n",
      " |-- song_id: integer (nullable = true)\n",
      " |-- title: string (nullable = true)\n",
      " |-- artist_id: integer (nullable = true)\n",
      " |-- release_date: timestamp (nullable = true)\n",
      "\n"
     ]
    }
   ],
   "source": [
    "songs.printSchema() # Printing the schema for songs dataframe"
   ]
  },
  {
   "cell_type": "code",
   "execution_count": 7,
   "id": "2ce35de9-793e-489e-b369-60bda8fe2651",
   "metadata": {},
   "outputs": [
    {
     "name": "stdout",
     "output_type": "stream",
     "text": [
      "root\n",
      " |-- activity_id: integer (nullable = true)\n",
      " |-- song_id: integer (nullable = true)\n",
      " |-- listen_time: timestamp (nullable = true)\n",
      " |-- listen_duration: integer (nullable = true)\n",
      " |-- listen_date: date (nullable = true)\n",
      "\n"
     ]
    }
   ],
   "source": [
    "from pyspark.sql.functions import to_date\n",
    "\n",
    "\n",
    "listening_activity = (\n",
    "    listening_activity\n",
    "    .withColumnRenamed(\"listen_date\",\"listen_time\")\n",
    "    .withColumn(\"listen_date\", to_date(\"listen_time\",\"yyyy-MM-dd HH:mm:ss.SSSSSS\"))\n",
    "    \n",
    ")\n",
    "\n",
    "listening_activity.printSchema()"
   ]
  },
  {
   "cell_type": "code",
   "execution_count": 8,
   "id": "9470256c-7675-4e12-9007-b4871b5d8f68",
   "metadata": {},
   "outputs": [
    {
     "name": "stdout",
     "output_type": "stream",
     "text": [
      "+-----------+-------+--------------------+---------------+-----------+\n",
      "|activity_id|song_id|         listen_time|listen_duration|listen_date|\n",
      "+-----------+-------+--------------------+---------------+-----------+\n",
      "|          1|     12|2023-06-27 10:15:...|             69| 2023-06-27|\n",
      "|          2|     44|2023-06-27 10:15:...|            300| 2023-06-27|\n",
      "|          3|     75|2023-06-27 10:15:...|             73| 2023-06-27|\n",
      "|          4|     48|2023-06-27 10:15:...|            105| 2023-06-27|\n",
      "|          5|     10|2023-06-27 10:15:...|            229| 2023-06-27|\n",
      "|          6|     82|2023-06-27 10:15:...|             35| 2023-06-27|\n",
      "|          7|     64|2023-06-27 10:15:...|            249| 2023-06-27|\n",
      "|          8|     96|2023-06-27 10:15:...|            211| 2023-06-27|\n",
      "|          9|     52|2023-06-27 10:15:...|             99| 2023-06-27|\n",
      "|         10|     21|2023-06-27 10:15:...|            181| 2023-06-27|\n",
      "|         11|      4|2023-06-27 10:15:...|            175| 2023-06-27|\n",
      "|         12|      6|2023-06-27 10:15:...|            244| 2023-06-27|\n",
      "|         13|     90|2023-06-27 10:15:...|            129| 2023-06-27|\n",
      "|         14|     33|2023-06-27 10:15:...|            260| 2023-06-27|\n",
      "|         15|      8|2023-06-27 10:15:...|            161| 2023-06-27|\n",
      "|         16|     93|2023-06-27 10:15:...|            141| 2023-06-27|\n",
      "|         17|     69|2023-06-27 10:15:...|            162| 2023-06-27|\n",
      "|         18|     97|2023-06-27 10:15:...|            275| 2023-06-27|\n",
      "|         19|     13|2023-06-27 10:15:...|             60| 2023-06-27|\n",
      "|         20|     92|2023-06-27 10:15:...|            134| 2023-06-27|\n",
      "+-----------+-------+--------------------+---------------+-----------+\n",
      "only showing top 20 rows\n",
      "\n"
     ]
    }
   ],
   "source": [
    "listening_activity.show()"
   ]
  },
  {
   "cell_type": "code",
   "execution_count": 9,
   "id": "715c3a2d-0fe9-483b-bf2a-4803611078f8",
   "metadata": {},
   "outputs": [
    {
     "name": "stderr",
     "output_type": "stream",
     "text": [
      "                                                                                \r"
     ]
    }
   ],
   "source": [
    "(\n",
    "    listening_activity\n",
    "    .write\n",
    "    .partitionBy(\"listen_date\")\n",
    "    .mode(\"overwrite\")\n",
    "    .parquet(\"data/partiton_data/listening_activity/\")\n",
    ")"
   ]
  },
  {
   "cell_type": "code",
   "execution_count": 10,
   "id": "0cf3dcb1-0e27-403c-a78d-4907ebd4c537",
   "metadata": {},
   "outputs": [
    {
     "name": "stderr",
     "output_type": "stream",
     "text": [
      "                                                                                \r"
     ]
    }
   ],
   "source": [
    "# Lets try to repartition\n",
    "\n",
    "(\n",
    "    listening_activity\n",
    "    .repartition(3)\n",
    "    .write\n",
    "    .partitionBy(\"listen_date\")\n",
    "    .mode(\"overwrite\")\n",
    "    .parquet(\"date/partition_data/listening_activity_rp/\")\n",
    ")"
   ]
  },
  {
   "cell_type": "code",
   "execution_count": 11,
   "id": "d0ac373a-38f1-45d0-848e-77a0470a421e",
   "metadata": {},
   "outputs": [
    {
     "name": "stderr",
     "output_type": "stream",
     "text": [
      "                                                                                \r"
     ]
    }
   ],
   "source": [
    "result_df = spark.read.parquet(\"date/partition_data/listening_activity_rp/\")"
   ]
  },
  {
   "cell_type": "code",
   "execution_count": 12,
   "id": "f8a0f4b2-0b30-4809-aaba-5067d5a86fb8",
   "metadata": {},
   "outputs": [
    {
     "name": "stdout",
     "output_type": "stream",
     "text": [
      "root\n",
      " |-- activity_id: integer (nullable = true)\n",
      " |-- song_id: integer (nullable = true)\n",
      " |-- listen_time: timestamp (nullable = true)\n",
      " |-- listen_duration: integer (nullable = true)\n",
      " |-- listen_date: date (nullable = true)\n",
      "\n"
     ]
    }
   ],
   "source": [
    "result_df.printSchema()"
   ]
  },
  {
   "cell_type": "code",
   "execution_count": 13,
   "id": "8e51898e-dd90-41cf-9080-425dc53333e2",
   "metadata": {},
   "outputs": [
    {
     "data": {
      "text/plain": [
       "20"
      ]
     },
     "execution_count": 13,
     "metadata": {},
     "output_type": "execute_result"
    }
   ],
   "source": [
    "result_df.rdd.getNumPartitions()"
   ]
  }
 ],
 "metadata": {
  "kernelspec": {
   "display_name": "Python 3 (ipykernel)",
   "language": "python",
   "name": "python3"
  },
  "language_info": {
   "codemirror_mode": {
    "name": "ipython",
    "version": 3
   },
   "file_extension": ".py",
   "mimetype": "text/x-python",
   "name": "python",
   "nbconvert_exporter": "python",
   "pygments_lexer": "ipython3",
   "version": "3.10.7"
  }
 },
 "nbformat": 4,
 "nbformat_minor": 5
}
