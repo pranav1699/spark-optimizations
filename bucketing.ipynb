{
 "cells": [
  {
   "cell_type": "code",
   "execution_count": 2,
   "id": "454e69d8-ba50-40d1-843a-cb2474a0517e",
   "metadata": {},
   "outputs": [],
   "source": [
    "from pyspark.sql import SparkSession"
   ]
  },
  {
   "cell_type": "code",
   "execution_count": 6,
   "id": "34264dab-98c1-45a2-a0a9-443b103b1458",
   "metadata": {},
   "outputs": [],
   "source": [
    "spark = (\n",
    "    SparkSession.builder\n",
    "    .appName(\"bucketing example\")\n",
    "    .master(\"local[*]\")\n",
    "    .config(\"spark.driver.memory\" , \"10g\")\n",
    "    .getOrCreate()\n",
    ")\n",
    "sc = spark.sparkContext\n",
    "sc.setLogLevel(\"WARN\")\n",
    "spark.conf.set(\"spark.sql.autoBroadcastJoinThreshold\" , -1) "
   ]
  },
  {
   "cell_type": "code",
   "execution_count": 7,
   "id": "83a8323c-4bcb-4a66-9842-265837e8373c",
   "metadata": {},
   "outputs": [
    {
     "data": {
      "text/html": [
       "\n",
       "            <div>\n",
       "                <p><b>SparkSession - in-memory</b></p>\n",
       "                \n",
       "        <div>\n",
       "            <p><b>SparkContext</b></p>\n",
       "\n",
       "            <p><a href=\"http://172.27.196.180:4041\">Spark UI</a></p>\n",
       "\n",
       "            <dl>\n",
       "              <dt>Version</dt>\n",
       "                <dd><code>v3.5.0</code></dd>\n",
       "              <dt>Master</dt>\n",
       "                <dd><code>local[*]</code></dd>\n",
       "              <dt>AppName</dt>\n",
       "                <dd><code>bucketing example</code></dd>\n",
       "            </dl>\n",
       "        </div>\n",
       "        \n",
       "            </div>\n",
       "        "
      ],
      "text/plain": [
       "<pyspark.sql.session.SparkSession at 0x7f6fa65d5b10>"
      ]
     },
     "execution_count": 7,
     "metadata": {},
     "output_type": "execute_result"
    }
   ],
   "source": [
    "spark"
   ]
  },
  {
   "cell_type": "code",
   "execution_count": 4,
   "id": "c3984816-c127-4e47-b917-29f29e3479f1",
   "metadata": {},
   "outputs": [
    {
     "name": "stdout",
     "output_type": "stream",
     "text": [
      "root\n",
      " |-- order_id: integer (nullable = true)\n",
      " |-- product_id: integer (nullable = true)\n",
      " |-- customer_id: integer (nullable = true)\n",
      " |-- quantity: integer (nullable = true)\n",
      " |-- order_date: timestamp (nullable = true)\n",
      " |-- total_amount: integer (nullable = true)\n",
      "\n"
     ]
    }
   ],
   "source": [
    "orders_data =  spark.read.csv(\"data/orders.csv\", header= True, inferSchema = True)\n",
    "orders_data.printSchema()"
   ]
  },
  {
   "cell_type": "code",
   "execution_count": 5,
   "id": "1b749eec-f75a-4f86-9776-2672eb15240f",
   "metadata": {},
   "outputs": [
    {
     "name": "stdout",
     "output_type": "stream",
     "text": [
      "root\n",
      " |-- product_id: integer (nullable = true)\n",
      " |-- product_name: string (nullable = true)\n",
      " |-- category: string (nullable = true)\n",
      " |-- brand: string (nullable = true)\n",
      " |-- price: integer (nullable = true)\n",
      " |-- stock: integer (nullable = true)\n",
      "\n"
     ]
    }
   ],
   "source": [
    "products_data = spark.read.csv(\"data/products.csv\", header = True, inferSchema = True)\n",
    "products_data.printSchema()"
   ]
  },
  {
   "cell_type": "markdown",
   "id": "c3bd617e-40f4-4e2c-aa5c-4f743076b8f7",
   "metadata": {},
   "source": [
    "### Bucketing for joins"
   ]
  },
  {
   "cell_type": "code",
   "execution_count": 6,
   "id": "afeec701-8821-4eb3-959b-0f1c4252567b",
   "metadata": {},
   "outputs": [],
   "source": [
    "# Joining the dataframes without bucketing\n",
    "\n",
    "enriched_orders = (\n",
    "    orders_data.join(\n",
    "        products_data,\n",
    "        on = orders_data.product_id == products_data.product_id,\n",
    "        how = \"inner\"\n",
    "    )\n",
    ")\n"
   ]
  },
  {
   "cell_type": "code",
   "execution_count": 7,
   "id": "da39803f-af69-44c3-b0ec-b0fa8143e3ae",
   "metadata": {},
   "outputs": [
    {
     "name": "stdout",
     "output_type": "stream",
     "text": [
      "== Physical Plan ==\n",
      "AdaptiveSparkPlan isFinalPlan=false\n",
      "+- SortMergeJoin [product_id#18], [product_id#46], Inner\n",
      "   :- Sort [product_id#18 ASC NULLS FIRST], false, 0\n",
      "   :  +- Exchange hashpartitioning(product_id#18, 200), ENSURE_REQUIREMENTS, [plan_id=60]\n",
      "   :     +- Filter isnotnull(product_id#18)\n",
      "   :        +- FileScan csv [order_id#17,product_id#18,customer_id#19,quantity#20,order_date#21,total_amount#22] Batched: false, DataFilters: [isnotnull(product_id#18)], Format: CSV, Location: InMemoryFileIndex(1 paths)[file:/mnt/c/Users/prana/Downloads/spark books/spark-learning/data/orde..., PartitionFilters: [], PushedFilters: [IsNotNull(product_id)], ReadSchema: struct<order_id:int,product_id:int,customer_id:int,quantity:int,order_date:timestamp,total_amount...\n",
      "   +- Sort [product_id#46 ASC NULLS FIRST], false, 0\n",
      "      +- Exchange hashpartitioning(product_id#46, 200), ENSURE_REQUIREMENTS, [plan_id=61]\n",
      "         +- Filter isnotnull(product_id#46)\n",
      "            +- FileScan csv [product_id#46,product_name#47,category#48,brand#49,price#50,stock#51] Batched: false, DataFilters: [isnotnull(product_id#46)], Format: CSV, Location: InMemoryFileIndex(1 paths)[file:/mnt/c/Users/prana/Downloads/spark books/spark-learning/data/prod..., PartitionFilters: [], PushedFilters: [IsNotNull(product_id)], ReadSchema: struct<product_id:int,product_name:string,category:string,brand:string,price:int,stock:int>\n",
      "\n",
      "\n"
     ]
    }
   ],
   "source": [
    "enriched_orders.explain()"
   ]
  },
  {
   "cell_type": "code",
   "execution_count": 8,
   "id": "0278f673-00fb-4931-bc36-a1b7f8df7a3e",
   "metadata": {},
   "outputs": [
    {
     "name": "stderr",
     "output_type": "stream",
     "text": [
      "                                                                                \r"
     ]
    }
   ],
   "source": [
    "# Bucketing the products and order data\n",
    "\n",
    "(\n",
    "    products_data\n",
    "    .write\n",
    "    .bucketBy(4,\"product_id\")\n",
    "    .mode(\"overwrite\")\n",
    "    .saveAsTable(\"products_data\")\n",
    ")\n",
    "\n",
    "(\n",
    "    orders_data\n",
    "    .write\n",
    "    .bucketBy(4,\"product_id\")\n",
    "    .mode(\"overwrite\")\n",
    "    .saveAsTable(\"orders_data\")\n",
    ")"
   ]
  },
  {
   "cell_type": "code",
   "execution_count": 9,
   "id": "a6b558c2-1f30-4f4b-ae17-327509c97645",
   "metadata": {},
   "outputs": [],
   "source": [
    "# Reading the tables\n",
    "\n",
    "products_data_buck = spark.table(\"products_data\")\n",
    "orders_data_buck = spark.table(\"orders_data\")\n"
   ]
  },
  {
   "cell_type": "code",
   "execution_count": 10,
   "id": "80cbff4e-cf09-483b-a1bf-c095466f5e7e",
   "metadata": {},
   "outputs": [
    {
     "name": "stdout",
     "output_type": "stream",
     "text": [
      "== Physical Plan ==\n",
      "AdaptiveSparkPlan isFinalPlan=false\n",
      "+- Project [product_id#121, order_id#120, customer_id#122, quantity#123, order_date#124, total_amount#125, product_name#109, category#110, brand#111, price#112, stock#113]\n",
      "   +- SortMergeJoin [product_id#121], [product_id#108], Inner\n",
      "      :- Sort [product_id#121 ASC NULLS FIRST], false, 0\n",
      "      :  +- Filter isnotnull(product_id#121)\n",
      "      :     +- FileScan parquet spark_catalog.default.orders_data[order_id#120,product_id#121,customer_id#122,quantity#123,order_date#124,total_amount#125] Batched: true, Bucketed: true, DataFilters: [isnotnull(product_id#121)], Format: Parquet, Location: InMemoryFileIndex(1 paths)[file:/mnt/c/Users/prana/Downloads/spark%20books/spark-learning/spark-w..., PartitionFilters: [], PushedFilters: [IsNotNull(product_id)], ReadSchema: struct<order_id:int,product_id:int,customer_id:int,quantity:int,order_date:timestamp,total_amount..., SelectedBucketsCount: 4 out of 4\n",
      "      +- Sort [product_id#108 ASC NULLS FIRST], false, 0\n",
      "         +- Filter isnotnull(product_id#108)\n",
      "            +- FileScan parquet spark_catalog.default.products_data[product_id#108,product_name#109,category#110,brand#111,price#112,stock#113] Batched: true, Bucketed: true, DataFilters: [isnotnull(product_id#108)], Format: Parquet, Location: InMemoryFileIndex(1 paths)[file:/mnt/c/Users/prana/Downloads/spark%20books/spark-learning/spark-w..., PartitionFilters: [], PushedFilters: [IsNotNull(product_id)], ReadSchema: struct<product_id:int,product_name:string,category:string,brand:string,price:int,stock:int>, SelectedBucketsCount: 4 out of 4\n",
      "\n",
      "\n"
     ]
    }
   ],
   "source": [
    "# Joining the dataframes with bucketing\n",
    "\n",
    "enriched_orders_buck = (\n",
    "    orders_data_buck.join(\n",
    "        products_data_buck,\n",
    "        on = \"product_id\",\n",
    "        how = \"inner\"\n",
    "    )\n",
    "    \n",
    ")\n",
    "\n",
    "enriched_orders_buck.explain()"
   ]
  },
  {
   "cell_type": "code",
   "execution_count": 11,
   "id": "64b153ed-2601-4bfa-8bcd-4c6c2cb813c5",
   "metadata": {},
   "outputs": [
    {
     "name": "stdout",
     "output_type": "stream",
     "text": [
      "== Physical Plan ==\n",
      "AdaptiveSparkPlan isFinalPlan=false\n",
      "+- Project [product_id#121, order_id#120, customer_id#122, quantity#123, order_date#124, total_amount#125, product_name#109, category#110, brand#111, price#112, stock#113]\n",
      "   +- SortMergeJoin [product_id#121], [product_id#108], Inner\n",
      "      :- Sort [product_id#121 ASC NULLS FIRST], false, 0\n",
      "      :  +- Filter (isnotnull(product_id#121) AND (product_id#121 = 6))\n",
      "      :     +- FileScan parquet spark_catalog.default.orders_data[order_id#120,product_id#121,customer_id#122,quantity#123,order_date#124,total_amount#125] Batched: true, Bucketed: true, DataFilters: [isnotnull(product_id#121), (product_id#121 = 6)], Format: Parquet, Location: InMemoryFileIndex(1 paths)[file:/mnt/c/Users/prana/Downloads/spark%20books/spark-learning/spark-w..., PartitionFilters: [], PushedFilters: [IsNotNull(product_id), EqualTo(product_id,6)], ReadSchema: struct<order_id:int,product_id:int,customer_id:int,quantity:int,order_date:timestamp,total_amount..., SelectedBucketsCount: 1 out of 4\n",
      "      +- Sort [product_id#108 ASC NULLS FIRST], false, 0\n",
      "         +- Filter ((product_id#108 = 6) AND isnotnull(product_id#108))\n",
      "            +- FileScan parquet spark_catalog.default.products_data[product_id#108,product_name#109,category#110,brand#111,price#112,stock#113] Batched: true, Bucketed: true, DataFilters: [(product_id#108 = 6), isnotnull(product_id#108)], Format: Parquet, Location: InMemoryFileIndex(1 paths)[file:/mnt/c/Users/prana/Downloads/spark%20books/spark-learning/spark-w..., PartitionFilters: [], PushedFilters: [EqualTo(product_id,6), IsNotNull(product_id)], ReadSchema: struct<product_id:int,product_name:string,category:string,brand:string,price:int,stock:int>, SelectedBucketsCount: 1 out of 4\n",
      "\n",
      "\n"
     ]
    }
   ],
   "source": [
    "enriched_orders_buck = (\n",
    "    orders_data_buck.join(\n",
    "        products_data_buck,\n",
    "        on = \"product_id\",\n",
    "        how = \"inner\"\n",
    "    )\n",
    "    .where(orders_data_buck.product_id == 6)\n",
    ")\n",
    "\n",
    "enriched_orders_buck.explain()"
   ]
  },
  {
   "cell_type": "markdown",
   "id": "43e07cd1-b6f2-4753-8dc8-2a56d1285531",
   "metadata": {},
   "source": [
    "### Bucketing for aggregations"
   ]
  },
  {
   "cell_type": "code",
   "execution_count": 12,
   "id": "d5a113f2-22b1-455c-90c2-94eec6556d33",
   "metadata": {},
   "outputs": [
    {
     "name": "stdout",
     "output_type": "stream",
     "text": [
      "== Physical Plan ==\n",
      "AdaptiveSparkPlan isFinalPlan=false\n",
      "+- HashAggregate(keys=[product_id#18], functions=[sum(total_amount#22)])\n",
      "   +- Exchange hashpartitioning(product_id#18, 200), ENSURE_REQUIREMENTS, [plan_id=186]\n",
      "      +- HashAggregate(keys=[product_id#18], functions=[partial_sum(total_amount#22)])\n",
      "         +- FileScan csv [product_id#18,total_amount#22] Batched: false, DataFilters: [], Format: CSV, Location: InMemoryFileIndex(1 paths)[file:/mnt/c/Users/prana/Downloads/spark books/spark-learning/data/orde..., PartitionFilters: [], PushedFilters: [], ReadSchema: struct<product_id:int,total_amount:int>\n",
      "\n",
      "\n"
     ]
    }
   ],
   "source": [
    "from pyspark.sql.functions import sum\n",
    "\n",
    "# Aggregating without Buckets\n",
    "\n",
    "# Without filter \n",
    "orders_data_agg_enriched = (\n",
    "    orders_data\n",
    "    .groupBy(\"product_id\")\n",
    "    .agg(sum(\"total_amount\").alias(\"total_sales_amount\"))\n",
    "    \n",
    ")\n",
    "\n",
    "orders_data_agg_enriched.explain()"
   ]
  },
  {
   "cell_type": "code",
   "execution_count": 13,
   "id": "3243acc7-1868-4033-b141-0a2eb1d63477",
   "metadata": {},
   "outputs": [
    {
     "name": "stdout",
     "output_type": "stream",
     "text": [
      "== Physical Plan ==\n",
      "AdaptiveSparkPlan isFinalPlan=false\n",
      "+- HashAggregate(keys=[product_id#18], functions=[sum(total_amount#22)])\n",
      "   +- Exchange hashpartitioning(product_id#18, 200), ENSURE_REQUIREMENTS, [plan_id=205]\n",
      "      +- HashAggregate(keys=[product_id#18], functions=[partial_sum(total_amount#22)])\n",
      "         +- Filter (isnotnull(product_id#18) AND (product_id#18 = 6))\n",
      "            +- FileScan csv [product_id#18,total_amount#22] Batched: false, DataFilters: [isnotnull(product_id#18), (product_id#18 = 6)], Format: CSV, Location: InMemoryFileIndex(1 paths)[file:/mnt/c/Users/prana/Downloads/spark books/spark-learning/data/orde..., PartitionFilters: [], PushedFilters: [IsNotNull(product_id), EqualTo(product_id,6)], ReadSchema: struct<product_id:int,total_amount:int>\n",
      "\n",
      "\n"
     ]
    }
   ],
   "source": [
    "# With filter\n",
    "\n",
    "orders_data_agg_enriched = (\n",
    "    orders_data\n",
    "    .groupBy(\"product_id\")\n",
    "    .agg(sum(\"total_amount\").alias(\"total_sales_amount\"))\n",
    "    .where(orders_data.product_id == 6)\n",
    "    \n",
    ")\n",
    "\n",
    "orders_data_agg_enriched.explain()"
   ]
  },
  {
   "cell_type": "code",
   "execution_count": 14,
   "id": "d0e8b987-27e3-4674-a12f-a08f85fdb5b1",
   "metadata": {},
   "outputs": [
    {
     "name": "stdout",
     "output_type": "stream",
     "text": [
      "== Physical Plan ==\n",
      "AdaptiveSparkPlan isFinalPlan=false\n",
      "+- HashAggregate(keys=[product_id#121], functions=[sum(total_amount#125)])\n",
      "   +- HashAggregate(keys=[product_id#121], functions=[partial_sum(total_amount#125)])\n",
      "      +- FileScan parquet spark_catalog.default.orders_data[product_id#121,total_amount#125] Batched: true, Bucketed: true, DataFilters: [], Format: Parquet, Location: InMemoryFileIndex(1 paths)[file:/mnt/c/Users/prana/Downloads/spark%20books/spark-learning/spark-w..., PartitionFilters: [], PushedFilters: [], ReadSchema: struct<product_id:int,total_amount:int>, SelectedBucketsCount: 4 out of 4\n",
      "\n",
      "\n"
     ]
    }
   ],
   "source": [
    "# Aggregating with Buckets\n",
    "\n",
    "# Without filter \n",
    "orders_data_agg_enriched = (\n",
    "    orders_data_buck\n",
    "    .groupBy(\"product_id\")\n",
    "    .agg(sum(\"total_amount\").alias(\"total_sales_amount\"))\n",
    "    \n",
    ")\n",
    "\n",
    "orders_data_agg_enriched.explain()"
   ]
  },
  {
   "cell_type": "code",
   "execution_count": 15,
   "id": "e074a65a-a08e-46e9-9dd7-97f88686960b",
   "metadata": {},
   "outputs": [
    {
     "name": "stdout",
     "output_type": "stream",
     "text": [
      "== Physical Plan ==\n",
      "AdaptiveSparkPlan isFinalPlan=false\n",
      "+- HashAggregate(keys=[product_id#121], functions=[sum(total_amount#125)])\n",
      "   +- HashAggregate(keys=[product_id#121], functions=[partial_sum(total_amount#125)])\n",
      "      +- Filter (isnotnull(product_id#121) AND (product_id#121 = 6))\n",
      "         +- FileScan parquet spark_catalog.default.orders_data[product_id#121,total_amount#125] Batched: true, Bucketed: true, DataFilters: [isnotnull(product_id#121), (product_id#121 = 6)], Format: Parquet, Location: InMemoryFileIndex(1 paths)[file:/mnt/c/Users/prana/Downloads/spark%20books/spark-learning/spark-w..., PartitionFilters: [], PushedFilters: [IsNotNull(product_id), EqualTo(product_id,6)], ReadSchema: struct<product_id:int,total_amount:int>, SelectedBucketsCount: 1 out of 4\n",
      "\n",
      "\n"
     ]
    }
   ],
   "source": [
    "# With filter\n",
    "\n",
    "orders_data_agg_enriched = (\n",
    "    orders_data_buck\n",
    "    .groupBy(\"product_id\")\n",
    "    .agg(sum(\"total_amount\").alias(\"total_sales_amount\"))\n",
    "    .where(orders_data_buck.product_id == 6)\n",
    "    \n",
    ")\n",
    "\n",
    "orders_data_agg_enriched.explain()"
   ]
  },
  {
   "cell_type": "code",
   "execution_count": 16,
   "id": "5112c973-b9eb-4d20-a8d0-3bbcf83bc5c6",
   "metadata": {},
   "outputs": [
    {
     "name": "stdout",
     "output_type": "stream",
     "text": [
      "++\n",
      "||\n",
      "++\n",
      "++\n",
      "\n",
      "++\n",
      "||\n",
      "++\n",
      "++\n",
      "\n",
      "Tables are dropped\n"
     ]
    }
   ],
   "source": [
    "# Droping the tables \n",
    "\n",
    "try : \n",
    "    spark.sql(\"\"\"\n",
    "    drop table orders_data\n",
    "    \"\"\").show()\n",
    "    \n",
    "    spark.sql(\"\"\"\n",
    "    drop table products_data\n",
    "    \"\"\").show()\n",
    "    \n",
    "    print(\"Tables are dropped\")\n",
    "except :\n",
    "    print(\"Tables do not exist\")"
   ]
  },
  {
   "cell_type": "markdown",
   "id": "054e6180-c028-4af5-9d9d-4845f1601a64",
   "metadata": {},
   "source": [
    "## How to determine bucket size\n",
    "\n",
    "#### Ideal bucket size sould be around 128 - 200 MB\n",
    "\n",
    "##### so to ge the ideal number of partitions :\n",
    "\n",
    "##### total size of the dataset / Ideal Bucket size\n",
    "\n",
    "##### Eg : 2000 MB / 200 MB = 10 buckets\n"
   ]
  }
 ],
 "metadata": {
  "kernelspec": {
   "display_name": "Python 3 (ipykernel)",
   "language": "python",
   "name": "python3"
  },
  "language_info": {
   "codemirror_mode": {
    "name": "ipython",
    "version": 3
   },
   "file_extension": ".py",
   "mimetype": "text/x-python",
   "name": "python",
   "nbconvert_exporter": "python",
   "pygments_lexer": "ipython3",
   "version": "3.10.6"
  }
 },
 "nbformat": 4,
 "nbformat_minor": 5
}
