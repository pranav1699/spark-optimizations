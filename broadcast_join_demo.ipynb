{
 "cells": [
  {
   "cell_type": "code",
   "execution_count": 1,
   "metadata": {},
   "outputs": [],
   "source": [
    "from pyspark.sql import SparkSession"
   ]
  },
  {
   "cell_type": "code",
   "execution_count": 2,
   "metadata": {},
   "outputs": [],
   "source": [
    "spark = (SparkSession.builder \n",
    "    .appName(\"Spark broadcast join\") \n",
    "    .master(\"local[*]\")\n",
    "    .config(\"spark.sql.adaptive.enabled\", \"false\")\n",
    "    .getOrCreate())"
   ]
  },
  {
   "cell_type": "code",
   "execution_count": 3,
   "metadata": {},
   "outputs": [
    {
     "data": {
      "text/html": [
       "\n",
       "            <div>\n",
       "                <p><b>SparkSession - in-memory</b></p>\n",
       "                \n",
       "        <div>\n",
       "            <p><b>SparkContext</b></p>\n",
       "\n",
       "            <p><a href=\"http://DESKTOP-JT18IV9:4042\">Spark UI</a></p>\n",
       "\n",
       "            <dl>\n",
       "              <dt>Version</dt>\n",
       "                <dd><code>v3.5.0</code></dd>\n",
       "              <dt>Master</dt>\n",
       "                <dd><code>local[*]</code></dd>\n",
       "              <dt>AppName</dt>\n",
       "                <dd><code>Spark broadcast join</code></dd>\n",
       "            </dl>\n",
       "        </div>\n",
       "        \n",
       "            </div>\n",
       "        "
      ],
      "text/plain": [
       "<pyspark.sql.session.SparkSession at 0x1296b08dab0>"
      ]
     },
     "execution_count": 3,
     "metadata": {},
     "output_type": "execute_result"
    }
   ],
   "source": [
    "spark"
   ]
  },
  {
   "cell_type": "code",
   "execution_count": 4,
   "metadata": {},
   "outputs": [],
   "source": [
    "# Disabling AQE (Adaptive query execution) to test the broadcast joins\n",
    "\n",
    "spark.conf.set(\"spark.sql.adaptive.enabled\", False)\n",
    "spark.conf.set(\"spark.sql.adaptive.coalescePartitions.enabled\", False)\n",
    "spark.conf.set(\"spark.sql.autoBroadcastJoinThreshold\", -1)"
   ]
  },
  {
   "cell_type": "code",
   "execution_count": 5,
   "metadata": {},
   "outputs": [],
   "source": [
    "trip_data = spark.read.csv(\"data/mibici_2014-2024/mibici_2014-2024.csv\", header=True, inferSchema=True)"
   ]
  },
  {
   "cell_type": "code",
   "execution_count": 6,
   "metadata": {},
   "outputs": [],
   "source": [
    "location_data = spark.read.csv('data/nomenclature_2024.csv', header=True, inferSchema=True)"
   ]
  },
  {
   "cell_type": "code",
   "execution_count": 7,
   "metadata": {},
   "outputs": [
    {
     "name": "stdout",
     "output_type": "stream",
     "text": [
      "root\n",
      " |-- _c0: integer (nullable = true)\n",
      " |-- Trip_Id: integer (nullable = true)\n",
      " |-- User_Id: integer (nullable = true)\n",
      " |-- Sex: string (nullable = true)\n",
      " |-- Birth_year: integer (nullable = true)\n",
      " |-- Trip_start: timestamp (nullable = true)\n",
      " |-- Trip_end: timestamp (nullable = true)\n",
      " |-- Origin_Id: integer (nullable = true)\n",
      " |-- Destination_Id: integer (nullable = true)\n",
      " |-- Age: integer (nullable = true)\n",
      " |-- Duration: string (nullable = true)\n",
      "\n"
     ]
    }
   ],
   "source": [
    "trip_data.printSchema()"
   ]
  },
  {
   "cell_type": "code",
   "execution_count": 8,
   "metadata": {},
   "outputs": [
    {
     "name": "stdout",
     "output_type": "stream",
     "text": [
      "root\n",
      " |-- id: integer (nullable = true)\n",
      " |-- name: string (nullable = true)\n",
      " |-- obcn: string (nullable = true)\n",
      " |-- location: string (nullable = true)\n",
      " |-- latitude: double (nullable = true)\n",
      " |-- longitude: double (nullable = true)\n",
      " |-- status: string (nullable = true)\n",
      "\n"
     ]
    }
   ],
   "source": [
    "location_data.printSchema()"
   ]
  },
  {
   "cell_type": "code",
   "execution_count": 9,
   "metadata": {},
   "outputs": [],
   "source": [
    "# code without broadcast join\n",
    "\n",
    "from pyspark.sql.functions import col      # importing col from the pyspark sql funtions \n",
    "\n",
    "start_location = location_data.alias(\"location_data\")\n",
    "end_location = location_data.alias(\"location_data\")\n",
    "\n",
    "enriched_data = (\n",
    "    trip_data\n",
    "    .join(start_location.alias('s'), trip_data[\"Origin_Id\"] == col('s.id'))\n",
    "    .join(end_location.alias('e'), trip_data[\"Destination_Id\"] == col('e.id'))\n",
    "    .select(trip_data[\"trip_id\"], col('s.name').alias(\"start_location\"), col('e.name').alias(\"drop_location\"))\n",
    ")\n",
    "\n",
    "# enriched_data.show(10)\n",
    "\n",
    "enriched_data.write.format('noop').mode(\"overwrite\").save()"
   ]
  },
  {
   "cell_type": "code",
   "execution_count": 10,
   "metadata": {},
   "outputs": [],
   "source": [
    "# code with the broadcast join\n",
    "\n",
    "from pyspark.sql.functions import col, broadcast # need to import the col and broadcast functiions from pyspark sql functions\n",
    "\n",
    "start_location = location_data.alias(\"location_data\")\n",
    "end_location = location_data.alias(\"location_data\")\n",
    "\n",
    "enriched_data = (\n",
    "    trip_data\n",
    "    .join(broadcast(start_location.alias('s')), trip_data[\"Origin_Id\"] == col('s.id'))\n",
    "    .join(broadcast(end_location.alias('e')), trip_data[\"Destination_Id\"] == col('e.id'))\n",
    "    .select(trip_data[\"trip_id\"], col('s.name').alias(\"start_location\"), col('e.name').alias(\"drop_location\"))\n",
    ")\n",
    "\n",
    "# enriched_data.show(10)\n",
    "\n",
    "\n",
    "# Writing the data as \"noop\" to benchmark the performance without writting the data anywhere\n",
    "enriched_data.write.format('noop').mode(\"overwrite\").save()  "
   ]
  },
  {
   "cell_type": "code",
   "execution_count": 11,
   "metadata": {},
   "outputs": [],
   "source": [
    "# creating the temp views to test the same using Spark SQL\n",
    "\n",
    "location_data.createOrReplaceTempView('location_view') # view for Locations\n",
    "trip_data.createOrReplaceTempView('trip_view') # view for Trips"
   ]
  },
  {
   "cell_type": "code",
   "execution_count": 12,
   "metadata": {},
   "outputs": [],
   "source": [
    "# SQL query for joining trips and location table to get the start and drop locations\n",
    "\n",
    "enriched_data = spark.sql(\n",
    "    \"\"\"\n",
    "    select t.trip_id, s.name as start_location, e.name as drop_location\n",
    "    from trip_view t\n",
    "    join location_view s on t.Origin_Id = s.id\n",
    "    join location_view e on t.Destination_Id = e.id\n",
    "    \"\"\"\n",
    ")\n",
    "enriched_data.write.format('noop').mode(\"overwrite\").save()"
   ]
  },
  {
   "cell_type": "code",
   "execution_count": 13,
   "metadata": {},
   "outputs": [],
   "source": [
    "# enriched_data.filter(enriched_data['trip_id'] == 32244893).show(10)"
   ]
  },
  {
   "cell_type": "code",
   "execution_count": 14,
   "metadata": {},
   "outputs": [],
   "source": [
    "# trip_data.count()"
   ]
  },
  {
   "cell_type": "code",
   "execution_count": 15,
   "metadata": {},
   "outputs": [],
   "source": [
    "# trip_data.show(10)"
   ]
  },
  {
   "cell_type": "code",
   "execution_count": null,
   "metadata": {},
   "outputs": [],
   "source": []
  }
 ],
 "metadata": {
  "kernelspec": {
   "display_name": "Python 3 (ipykernel)",
   "language": "python",
   "name": "python3"
  },
  "language_info": {
   "codemirror_mode": {
    "name": "ipython",
    "version": 3
   },
   "file_extension": ".py",
   "mimetype": "text/x-python",
   "name": "python",
   "nbconvert_exporter": "python",
   "pygments_lexer": "ipython3",
   "version": "3.10.7"
  }
 },
 "nbformat": 4,
 "nbformat_minor": 4
}
