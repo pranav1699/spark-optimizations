{
 "cells": [
  {
   "cell_type": "code",
   "execution_count": 1,
   "metadata": {},
   "outputs": [],
   "source": [
    "from pyspark.sql import SparkSession"
   ]
  },
  {
   "cell_type": "code",
   "execution_count": 2,
   "metadata": {},
   "outputs": [],
   "source": [
    "spark = (SparkSession.builder \n",
    "    .appName(\"Spark broadcast join\") \n",
    "    .master(\"local[*]\")\n",
    "    # .config(\"spark.executor.cores\", \"5\")\n",
    "    # .config(\"spark.driver.memory\" , \"10g\")\n",
    "    .config(\"spark.sql.catalogImplementation\" , \"hive\")\n",
    "    .getOrCreate())\n",
    "\n",
    "# spark.conf.set(\"spark.sql.shuffle.partitions\",200)"
   ]
  },
  {
   "cell_type": "code",
   "execution_count": 3,
   "metadata": {},
   "outputs": [
    {
     "data": {
      "text/html": [
       "\n",
       "            <div>\n",
       "                <p><b>SparkSession - hive</b></p>\n",
       "                \n",
       "        <div>\n",
       "            <p><b>SparkContext</b></p>\n",
       "\n",
       "            <p><a href=\"http://DESKTOP-JT18IV9:4041\">Spark UI</a></p>\n",
       "\n",
       "            <dl>\n",
       "              <dt>Version</dt>\n",
       "                <dd><code>v3.5.0</code></dd>\n",
       "              <dt>Master</dt>\n",
       "                <dd><code>local[*]</code></dd>\n",
       "              <dt>AppName</dt>\n",
       "                <dd><code>Spark broadcast join</code></dd>\n",
       "            </dl>\n",
       "        </div>\n",
       "        \n",
       "            </div>\n",
       "        "
      ],
      "text/plain": [
       "<pyspark.sql.session.SparkSession at 0x284917e1c30>"
      ]
     },
     "execution_count": 3,
     "metadata": {},
     "output_type": "execute_result"
    }
   ],
   "source": [
    "spark"
   ]
  },
  {
   "cell_type": "code",
   "execution_count": 4,
   "metadata": {},
   "outputs": [],
   "source": [
    "# Disabling AQE (Adaptive query execution) to test the broadcast joins\n",
    "\n",
    "spark.conf.set(\"spark.sql.adaptive.enabled\", False)\n",
    "spark.conf.set(\"spark.sql.adaptive.coalescePartitions.enabled\", False)\n",
    "spark.conf.set(\"spark.sql.autoBroadcastJoinThreshold\", -1)"
   ]
  },
  {
   "cell_type": "code",
   "execution_count": 5,
   "metadata": {},
   "outputs": [],
   "source": [
    "trip_data = spark.read.csv(\"data/mibici_2014-2024/mibici_2014-2024.csv\", header=True, inferSchema=True)"
   ]
  },
  {
   "cell_type": "code",
   "execution_count": 6,
   "metadata": {},
   "outputs": [],
   "source": [
    "location_data = spark.read.csv('data/nomenclature_2024.csv', header=True, inferSchema=True)"
   ]
  },
  {
   "cell_type": "code",
   "execution_count": 7,
   "metadata": {},
   "outputs": [
    {
     "name": "stdout",
     "output_type": "stream",
     "text": [
      "root\n",
      " |-- _c0: integer (nullable = true)\n",
      " |-- Trip_Id: integer (nullable = true)\n",
      " |-- User_Id: integer (nullable = true)\n",
      " |-- Sex: string (nullable = true)\n",
      " |-- Birth_year: integer (nullable = true)\n",
      " |-- Trip_start: timestamp (nullable = true)\n",
      " |-- Trip_end: timestamp (nullable = true)\n",
      " |-- Origin_Id: integer (nullable = true)\n",
      " |-- Destination_Id: integer (nullable = true)\n",
      " |-- Age: integer (nullable = true)\n",
      " |-- Duration: string (nullable = true)\n",
      "\n"
     ]
    }
   ],
   "source": [
    "trip_data.printSchema()"
   ]
  },
  {
   "cell_type": "code",
   "execution_count": 8,
   "metadata": {},
   "outputs": [
    {
     "name": "stdout",
     "output_type": "stream",
     "text": [
      "root\n",
      " |-- id: integer (nullable = true)\n",
      " |-- name: string (nullable = true)\n",
      " |-- obcn: string (nullable = true)\n",
      " |-- location: string (nullable = true)\n",
      " |-- latitude: double (nullable = true)\n",
      " |-- longitude: double (nullable = true)\n",
      " |-- status: string (nullable = true)\n",
      "\n"
     ]
    }
   ],
   "source": [
    "location_data.printSchema()"
   ]
  },
  {
   "cell_type": "code",
   "execution_count": 17,
   "metadata": {},
   "outputs": [
    {
     "name": "stdout",
     "output_type": "stream",
     "text": [
      "== Physical Plan ==\n",
      "*(9) Project [trip_id#18, name#57 AS start_location#427, name#370 AS drop_location#428]\n",
      "+- *(9) SortMergeJoin [Destination_Id#25], [id#369], Inner\n",
      "   :- *(6) Sort [Destination_Id#25 ASC NULLS FIRST], false, 0\n",
      "   :  +- Exchange hashpartitioning(Destination_Id#25, 200), ENSURE_REQUIREMENTS, [plan_id=1063]\n",
      "   :     +- *(5) Project [Trip_Id#18, Destination_Id#25, name#57]\n",
      "   :        +- *(5) SortMergeJoin [Origin_Id#24], [id#56], Inner\n",
      "   :           :- *(2) Sort [Origin_Id#24 ASC NULLS FIRST], false, 0\n",
      "   :           :  +- Exchange hashpartitioning(Origin_Id#24, 200), ENSURE_REQUIREMENTS, [plan_id=1047]\n",
      "   :           :     +- Coalesce 10\n",
      "   :           :        +- *(1) Filter (isnotnull(Origin_Id#24) AND isnotnull(Destination_Id#25))\n",
      "   :           :           +- FileScan csv [Trip_Id#18,Origin_Id#24,Destination_Id#25] Batched: false, DataFilters: [isnotnull(Origin_Id#24), isnotnull(Destination_Id#25)], Format: CSV, Location: InMemoryFileIndex(1 paths)[file:/C:/Users/prana/Downloads/spark books/spark-learning/data/mibici_..., PartitionFilters: [], PushedFilters: [IsNotNull(Origin_Id), IsNotNull(Destination_Id)], ReadSchema: struct<Trip_Id:int,Origin_Id:int,Destination_Id:int>\n",
      "   :           +- *(4) Sort [id#56 ASC NULLS FIRST], false, 0\n",
      "   :              +- Exchange hashpartitioning(id#56, 200), ENSURE_REQUIREMENTS, [plan_id=1055]\n",
      "   :                 +- *(3) Filter isnotnull(id#56)\n",
      "   :                    +- FileScan csv [id#56,name#57] Batched: false, DataFilters: [isnotnull(id#56)], Format: CSV, Location: InMemoryFileIndex(1 paths)[file:/C:/Users/prana/Downloads/spark books/spark-learning/data/nomencl..., PartitionFilters: [], PushedFilters: [IsNotNull(id)], ReadSchema: struct<id:int,name:string>\n",
      "   +- *(8) Sort [id#369 ASC NULLS FIRST], false, 0\n",
      "      +- ReusedExchange [id#369, name#370], Exchange hashpartitioning(id#56, 200), ENSURE_REQUIREMENTS, [plan_id=1055]\n",
      "\n",
      "\n"
     ]
    }
   ],
   "source": [
    "# code without broadcast join\n",
    "\n",
    "from pyspark.sql.functions import col      # importing col from the pyspark sql funtions \n",
    "\n",
    "start_location = location_data.alias(\"location_data\")\n",
    "end_location = location_data.alias(\"location_data\")\n",
    "\n",
    "enriched_data = (\n",
    "    trip_data\n",
    "    .join(start_location.alias('s'), trip_data[\"Origin_Id\"] == col('s.id'))\n",
    "    .join(end_location.alias('e'), trip_data[\"Destination_Id\"] == col('e.id'))\n",
    "    .select(trip_data[\"trip_id\"], col('s.name').alias(\"start_location\"), col('e.name').alias(\"drop_location\"))\n",
    ")\n",
    "\n",
    "enriched_data.explain()\n",
    "\n",
    "enriched_data.write.format('noop').mode(\"overwrite\").save()"
   ]
  },
  {
   "cell_type": "code",
   "execution_count": 10,
   "metadata": {},
   "outputs": [
    {
     "name": "stdout",
     "output_type": "stream",
     "text": [
      "== Physical Plan ==\n",
      "*(3) Project [trip_id#18, name#57 AS start_location#273, name#216 AS drop_location#274]\n",
      "+- *(3) BroadcastHashJoin [Destination_Id#25], [id#215], Inner, BuildRight, false\n",
      "   :- *(3) Project [Trip_Id#18, Destination_Id#25, name#57]\n",
      "   :  +- *(3) BroadcastHashJoin [Origin_Id#24], [id#56], Inner, BuildRight, false\n",
      "   :     :- *(3) Filter (isnotnull(Origin_Id#24) AND isnotnull(Destination_Id#25))\n",
      "   :     :  +- FileScan csv [Trip_Id#18,Origin_Id#24,Destination_Id#25] Batched: false, DataFilters: [isnotnull(Origin_Id#24), isnotnull(Destination_Id#25)], Format: CSV, Location: InMemoryFileIndex(1 paths)[file:/C:/Users/prana/Downloads/spark books/spark-learning/data/mibici_..., PartitionFilters: [], PushedFilters: [IsNotNull(Origin_Id), IsNotNull(Destination_Id)], ReadSchema: struct<Trip_Id:int,Origin_Id:int,Destination_Id:int>\n",
      "   :     +- BroadcastExchange HashedRelationBroadcastMode(List(cast(input[0, int, false] as bigint)),false), [plan_id=379]\n",
      "   :        +- *(1) Filter isnotnull(id#56)\n",
      "   :           +- FileScan csv [id#56,name#57] Batched: false, DataFilters: [isnotnull(id#56)], Format: CSV, Location: InMemoryFileIndex(1 paths)[file:/C:/Users/prana/Downloads/spark books/spark-learning/data/nomencl..., PartitionFilters: [], PushedFilters: [IsNotNull(id)], ReadSchema: struct<id:int,name:string>\n",
      "   +- ReusedExchange [id#215, name#216], BroadcastExchange HashedRelationBroadcastMode(List(cast(input[0, int, false] as bigint)),false), [plan_id=379]\n",
      "\n",
      "\n"
     ]
    }
   ],
   "source": [
    "# code with the broadcast join\n",
    "\n",
    "from pyspark.sql.functions import col, broadcast # need to import the col and broadcast functiions from pyspark sql functions\n",
    "\n",
    "start_location = location_data.alias(\"location_data\")\n",
    "end_location = location_data.alias(\"location_data\")\n",
    "\n",
    "enriched_data = (\n",
    "    trip_data\n",
    "    .join(broadcast(start_location.alias('s')), trip_data[\"Origin_Id\"] == col('s.id'))\n",
    "    .join(broadcast(end_location.alias('e')), trip_data[\"Destination_Id\"] == col('e.id'))\n",
    "    .select(trip_data[\"trip_id\"], col('s.name').alias(\"start_location\"), col('e.name').alias(\"drop_location\"))\n",
    ")\n",
    "\n",
    "\n",
    "\n",
    "enriched_data.explain()\n",
    "\n",
    "\n",
    "# Writing the data as \"noop\" to benchmark the performance without writting the data anywhere\n",
    "enriched_data.write.format('noop').mode(\"overwrite\").save()  "
   ]
  },
  {
   "cell_type": "code",
   "execution_count": 11,
   "metadata": {},
   "outputs": [],
   "source": [
    "# creating the temp views to test the same using Spark SQL\n",
    "\n",
    "location_data.createOrReplaceTempView('location_view') # view for Locations\n",
    "trip_data.createOrReplaceTempView('trip_view') # view for Trips"
   ]
  },
  {
   "cell_type": "code",
   "execution_count": 12,
   "metadata": {},
   "outputs": [
    {
     "name": "stdout",
     "output_type": "stream",
     "text": [
      "== Physical Plan ==\n",
      "*(9) Project [trip_id#18, name#57 AS start_location#286, name#289 AS drop_location#287]\n",
      "+- *(9) SortMergeJoin [Destination_Id#25], [id#288], Inner\n",
      "   :- *(6) Sort [Destination_Id#25 ASC NULLS FIRST], false, 0\n",
      "   :  +- Exchange hashpartitioning(Destination_Id#25, 200), ENSURE_REQUIREMENTS, [plan_id=583]\n",
      "   :     +- *(5) Project [Trip_Id#18, Destination_Id#25, name#57]\n",
      "   :        +- *(5) SortMergeJoin [Origin_Id#24], [id#56], Inner\n",
      "   :           :- *(2) Sort [Origin_Id#24 ASC NULLS FIRST], false, 0\n",
      "   :           :  +- Exchange hashpartitioning(Origin_Id#24, 200), ENSURE_REQUIREMENTS, [plan_id=567]\n",
      "   :           :     +- *(1) Filter (isnotnull(Origin_Id#24) AND isnotnull(Destination_Id#25))\n",
      "   :           :        +- FileScan csv [Trip_Id#18,Origin_Id#24,Destination_Id#25] Batched: false, DataFilters: [isnotnull(Origin_Id#24), isnotnull(Destination_Id#25)], Format: CSV, Location: InMemoryFileIndex(1 paths)[file:/C:/Users/prana/Downloads/spark books/spark-learning/data/mibici_..., PartitionFilters: [], PushedFilters: [IsNotNull(Origin_Id), IsNotNull(Destination_Id)], ReadSchema: struct<Trip_Id:int,Origin_Id:int,Destination_Id:int>\n",
      "   :           +- *(4) Sort [id#56 ASC NULLS FIRST], false, 0\n",
      "   :              +- Exchange hashpartitioning(id#56, 200), ENSURE_REQUIREMENTS, [plan_id=575]\n",
      "   :                 +- *(3) Filter isnotnull(id#56)\n",
      "   :                    +- FileScan csv [id#56,name#57] Batched: false, DataFilters: [isnotnull(id#56)], Format: CSV, Location: InMemoryFileIndex(1 paths)[file:/C:/Users/prana/Downloads/spark books/spark-learning/data/nomencl..., PartitionFilters: [], PushedFilters: [IsNotNull(id)], ReadSchema: struct<id:int,name:string>\n",
      "   +- *(8) Sort [id#288 ASC NULLS FIRST], false, 0\n",
      "      +- ReusedExchange [id#288, name#289], Exchange hashpartitioning(id#56, 200), ENSURE_REQUIREMENTS, [plan_id=575]\n",
      "\n",
      "\n"
     ]
    }
   ],
   "source": [
    "# SQL query for joining trips and location table to get the start and drop locations\n",
    "\n",
    "enriched_data = spark.sql(\n",
    "    \"\"\"\n",
    "    select t.trip_id, s.name as start_location, e.name as drop_location\n",
    "    from trip_view t\n",
    "    join location_view s on t.Origin_Id = s.id\n",
    "    join location_view e on t.Destination_Id = e.id\n",
    "    \"\"\"\n",
    ")\n",
    "\n",
    "enriched_data.explain()\n",
    "\n",
    "enriched_data.write.format('noop').mode(\"overwrite\").save()"
   ]
  },
  {
   "cell_type": "code",
   "execution_count": 13,
   "metadata": {},
   "outputs": [],
   "source": [
    "# enriched_data.filter(enriched_data['trip_id'] == 32244893).show(10)"
   ]
  },
  {
   "cell_type": "code",
   "execution_count": 14,
   "metadata": {},
   "outputs": [],
   "source": [
    "# trip_data.count()"
   ]
  },
  {
   "cell_type": "code",
   "execution_count": 15,
   "metadata": {},
   "outputs": [],
   "source": [
    "# trip_data.show(10)"
   ]
  },
  {
   "cell_type": "code",
   "execution_count": 16,
   "metadata": {},
   "outputs": [
    {
     "name": "stdout",
     "output_type": "stream",
     "text": [
      "+---------+------+\n",
      "|partition| count|\n",
      "+---------+------+\n",
      "|        0| 52582|\n",
      "|        1| 27733|\n",
      "|        2|121565|\n",
      "|        3|231475|\n",
      "|        4|241822|\n",
      "|        5|323180|\n",
      "|        6|126923|\n",
      "|        7|170736|\n",
      "|        8| 16886|\n",
      "|        9|   580|\n",
      "|       10|118644|\n",
      "|       11|450350|\n",
      "|       12| 66117|\n",
      "|       13|116180|\n",
      "|       14|325244|\n",
      "|       18| 91449|\n",
      "|       19|336680|\n",
      "|       20|   564|\n",
      "|       21|465929|\n",
      "|       22| 84681|\n",
      "+---------+------+\n",
      "only showing top 20 rows\n",
      "\n"
     ]
    }
   ],
   "source": [
    "from pyspark.sql.functions import spark_partition_id\n",
    "(\n",
    "    enriched_data\n",
    "    .withColumn(\"partition\", spark_partition_id())\n",
    "    .groupBy(\"partition\")\n",
    "    .count()\n",
    "    .orderBy(\"partition\")\n",
    "    .show()\n",
    ")"
   ]
  },
  {
   "cell_type": "code",
   "execution_count": null,
   "metadata": {},
   "outputs": [],
   "source": []
  }
 ],
 "metadata": {
  "kernelspec": {
   "display_name": "Python 3 (ipykernel)",
   "language": "python",
   "name": "python3"
  },
  "language_info": {
   "codemirror_mode": {
    "name": "ipython",
    "version": 3
   },
   "file_extension": ".py",
   "mimetype": "text/x-python",
   "name": "python",
   "nbconvert_exporter": "python",
   "pygments_lexer": "ipython3",
   "version": "3.10.7"
  }
 },
 "nbformat": 4,
 "nbformat_minor": 4
}
